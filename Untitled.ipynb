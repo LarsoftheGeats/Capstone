{
 "cells": [
  {
   "cell_type": "markdown",
   "id": "b00def2a",
   "metadata": {},
   "source": [
    "Data Report\n",
    "Script:\n",
    "\n",
    "Hello my name is Jonathan Nielsen, I'm in Data Analytics 30.  I'm fond of math, and board games, and I enjoy finding out why things are the way they are, so Analytics felt like a good fit for me as a way of explaining why some things happen.  \n",
    "<slide>\n",
    "My project is on Travel Data.   During the pandemic the total mileage driven by Americans dropped, however, at the same time traffic fatalities went up.  This is a little confounding analytically as there's an obvious relationship between miles driven and accidents.  So this analysis was an exploration of the data in an attempt to explain what's happening and why.  \n",
    "\n",
    "Some preliminaries:\n",
    "\n",
    "The National Highway Transportation Safety Administration collects data on Road fatalities, and the Federal Highway Administration gathers data on road useage to estimate vehicle miles traveled per month.  So these are the source from which I gathered my data\n",
    "\n",
    "Least squares is a mathematical tool used to plot a predictive line from scattered data points.  \n",
    "\n",
    "The T-test is a tool that helps provide an analysis in whether a sample could have come from another population.  A very low p-value means it's unlikely \n",
    "\n",
    "This data is joined from accident and travel data by state and date.  Each dot represents a state and date.   \n",
    "<slide>\n",
    "Here we see a least squares model for traffic fatalities.  The best fit line suggests around 1.2 deaths per 100 million miles traveled.  The R squared tells us that this model accounts for about 91% of the variability in traffic fatalities.  So lets see how our model predicts the outcome of the pandemic year.\n",
    "<slide>\n",
    "Badly.  The red is the predicted fatality rate and the yellow is what was measured instead.  \n",
    "\n",
    "So what's going on?  \n",
    "<slide>\n",
    "First we check if the crash rate is different in a statistically significant way from pre-pandemic times.  By inspection that's clear, we also use a T-test test to verify this.  So satisfied that this is not a blip, we  move on to trying out hypothesis. \n",
    "<slide>\n",
    "One explanation is that not all roads are equal, state and national deprtments of transporation classify roads by function.  And information about how dangerous those roads are is regularly published.  \n",
    "<slide>\n",
    "Checking if travel on the better roads is the culprit, we unfortunately see that  the box plots have nearly identical medians, and a T-test reveals that there aren't any significant differences between the two samples.\n",
    "<slide>\n",
    "Another possible explanation about road quality was the differences between urban and rural areas, perhaps density of the areas would have an impact, once again while there is a slight difference between the means of the two samples, it's well within the range of chance.  \n",
    "<slide>\n",
    "Unfortunately sometimes hypothesis are incorrect, in this case my hypothesis was that the uptick in fatalities was due to changes in which roads were used, however the data didn't support that conclusion, rural vs urban driving also didn't seem to be a causal factor.   \n"
   ]
  },
  {
   "cell_type": "code",
   "execution_count": null,
   "id": "1aa34697",
   "metadata": {},
   "outputs": [],
   "source": [
    "import pandas as pd\n",
    "import seaborn as sns\n",
    "import matplotlib.pyplot as plt\n",
    "import pmdarima as pm\n",
    "import math\n",
    "from datetime import date\n",
    "from scipy.stats import ttest_ind\n"
   ]
  }
 ],
 "metadata": {
  "kernelspec": {
   "display_name": "Python 3 (ipykernel)",
   "language": "python",
   "name": "python3"
  },
  "language_info": {
   "codemirror_mode": {
    "name": "ipython",
    "version": 3
   },
   "file_extension": ".py",
   "mimetype": "text/x-python",
   "name": "python",
   "nbconvert_exporter": "python",
   "pygments_lexer": "ipython3",
   "version": "3.9.13"
  }
 },
 "nbformat": 4,
 "nbformat_minor": 5
}
